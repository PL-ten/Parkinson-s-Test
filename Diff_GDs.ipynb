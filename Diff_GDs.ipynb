{
 "cells": [
  {
   "cell_type": "markdown",
   "id": "23c4f820-9f81-4e68-9f47-12f58a7f3aa2",
   "metadata": {},
   "source": [
    "### Diff types of GDs"
   ]
  },
  {
   "cell_type": "markdown",
   "id": "6fda10fc-df60-41b3-8319-294950ff9499",
   "metadata": {},
   "source": [
    "## Batch GD"
   ]
  },
  {
   "cell_type": "markdown",
   "id": "7b22b541-33d0-40c6-a4e1-9ea344de8914",
   "metadata": {},
   "source": [
    "Batch Gradient Descent (BGD) calculates the cost and gradient using the entire dataset before updating the parameters. This ensures that each step is based on a complete and accurate estimate of the gradient, making the updates smoother and more stable.\n",
    "\n",
    "Step-by-Step Recap\n",
    "Compute the Cost Function using all training samples.\n",
    "Compute the Gradient (Derivative) using the entire dataset.\n",
    "Update the Parameters using the computed gradient.\n",
    "Repeat Until Convergence (i.e., when the cost function stops changing significantly).\n",
    "Since BGD processes the entire dataset before updating parameters, it can be slow for large datasets but provides consistent and stable updates"
   ]
  },
  {
   "cell_type": "markdown",
   "id": "0fdca049-619d-4e29-ba1d-ea2b272c619f",
   "metadata": {},
   "source": [
    "## Stochastic GD"
   ]
  },
  {
   "cell_type": "markdown",
   "id": "0eb562ec-2686-4f03-a63e-c4a681075dc1",
   "metadata": {},
   "source": [
    "Stochastic Gradient Descent (SGD) is an optimization algorithm that updates model parameters after processing each individual training example, rather than using the entire dataset like Batch Gradient Descent (BGD)."
   ]
  },
  {
   "cell_type": "markdown",
   "id": "dff0b2c3-1f28-43fe-a976-a6adc6e4172b",
   "metadata": {},
   "source": [
    "Shuffle the dataset to avoid biases in updates.\n",
    "Pick one random training example \n",
    "(\n",
    "𝑥\n",
    "𝑖\n",
    ",\n",
    "𝑦\n",
    "𝑖\n",
    ")\n",
    "(x \n",
    "i\n",
    "​\n",
    " ,y \n",
    "i\n",
    "​\n",
    " ).\n",
    "Compute the gradient using just this single data point.\n",
    "Update the parameters using the formula:\n",
    "𝜃\n",
    "=\n",
    "𝜃\n",
    "−\n",
    "𝛼\n",
    "⋅\n",
    "∇\n",
    "𝐽\n",
    "(\n",
    "𝜃\n",
    ";\n",
    "𝑥\n",
    "𝑖\n",
    ",\n",
    "𝑦\n",
    "𝑖\n",
    ")\n",
    "θ=θ−α⋅∇J(θ;x \n",
    "i\n",
    "​\n",
    " ,y \n",
    "i\n",
    "​\n",
    " )\n",
    "where:\n",
    "𝜃\n",
    "θ = model parameters (weights)\n",
    "𝛼\n",
    "α = learning rate\n",
    "𝐽\n",
    "(\n",
    "𝜃\n",
    ";\n",
    "𝑥\n",
    "𝑖\n",
    ",\n",
    "𝑦\n",
    "𝑖\n",
    ")\n",
    "J(θ;x \n",
    "i\n",
    "​\n",
    " ,y \n",
    "i\n",
    "​\n",
    " ) = cost function for a single example\n",
    "Repeat for all examples, then reshuffle the dataset and continue iterating until convergence."
   ]
  },
  {
   "cell_type": "markdown",
   "id": "c77c0f1c-79d7-41b6-95d4-49c4596f9fd7",
   "metadata": {},
   "source": [
    "## Mini Batch GD"
   ]
  },
  {
   "cell_type": "markdown",
   "id": "c9e8626b-d648-4035-ab0e-4822439a8e2b",
   "metadata": {},
   "source": [
    "Similar to SGD, Instead of choosing one randomly picked training sample, you will use a batch of randomly picked training samples."
   ]
  },
  {
   "cell_type": "markdown",
   "id": "2eb602d9-7df4-4139-87ff-090c1d9a8234",
   "metadata": {},
   "source": [
    "## Programming "
   ]
  },
  {
   "cell_type": "code",
   "execution_count": 1,
   "id": "da702fb4-f47f-48fd-9bba-2fc90d04ff46",
   "metadata": {},
   "outputs": [],
   "source": [
    "import pandas as pd\n",
    "import numpy as np\n",
    "from matplotlib import pyplot as plt\n",
    "%matplotlib inline"
   ]
  },
  {
   "cell_type": "code",
   "execution_count": 80,
   "id": "39bed9f9-dcb2-41d1-a70c-d8415ccb40d1",
   "metadata": {},
   "outputs": [
    {
     "data": {
      "text/html": [
       "<div>\n",
       "<style scoped>\n",
       "    .dataframe tbody tr th:only-of-type {\n",
       "        vertical-align: middle;\n",
       "    }\n",
       "\n",
       "    .dataframe tbody tr th {\n",
       "        vertical-align: top;\n",
       "    }\n",
       "\n",
       "    .dataframe thead th {\n",
       "        text-align: right;\n",
       "    }\n",
       "</style>\n",
       "<table border=\"1\" class=\"dataframe\">\n",
       "  <thead>\n",
       "    <tr style=\"text-align: right;\">\n",
       "      <th></th>\n",
       "      <th>Price</th>\n",
       "      <th>Area</th>\n",
       "      <th>Bedrooms</th>\n",
       "    </tr>\n",
       "  </thead>\n",
       "  <tbody>\n",
       "    <tr>\n",
       "      <th>971</th>\n",
       "      <td>144238</td>\n",
       "      <td>3240</td>\n",
       "      <td>1</td>\n",
       "    </tr>\n",
       "    <tr>\n",
       "      <th>20</th>\n",
       "      <td>421879</td>\n",
       "      <td>2219</td>\n",
       "      <td>1</td>\n",
       "    </tr>\n",
       "    <tr>\n",
       "      <th>807</th>\n",
       "      <td>966651</td>\n",
       "      <td>2209</td>\n",
       "      <td>2</td>\n",
       "    </tr>\n",
       "    <tr>\n",
       "      <th>153</th>\n",
       "      <td>301664</td>\n",
       "      <td>1618</td>\n",
       "      <td>2</td>\n",
       "    </tr>\n",
       "    <tr>\n",
       "      <th>1</th>\n",
       "      <td>771155</td>\n",
       "      <td>2680</td>\n",
       "      <td>4</td>\n",
       "    </tr>\n",
       "  </tbody>\n",
       "</table>\n",
       "</div>"
      ],
      "text/plain": [
       "      Price  Area  Bedrooms\n",
       "971  144238  3240         1\n",
       "20   421879  2219         1\n",
       "807  966651  2209         2\n",
       "153  301664  1618         2\n",
       "1    771155  2680         4"
      ]
     },
     "execution_count": 80,
     "metadata": {},
     "output_type": "execute_result"
    }
   ],
   "source": [
    "df =pd.read_csv(r\"Datasets\\archive\\large_real_estate_data.csv\")\n",
    "df.sample(5)"
   ]
  },
  {
   "cell_type": "code",
   "execution_count": 81,
   "id": "9b545961-b432-43d5-ab23-055bca8fe924",
   "metadata": {},
   "outputs": [
    {
     "name": "stdout",
     "output_type": "stream",
     "text": [
      "<class 'pandas.core.frame.DataFrame'>\n",
      "RangeIndex: 1000 entries, 0 to 999\n",
      "Data columns (total 3 columns):\n",
      " #   Column    Non-Null Count  Dtype\n",
      "---  ------    --------------  -----\n",
      " 0   Price     1000 non-null   int64\n",
      " 1   Area      1000 non-null   int64\n",
      " 2   Bedrooms  1000 non-null   int64\n",
      "dtypes: int64(3)\n",
      "memory usage: 23.6 KB\n"
     ]
    }
   ],
   "source": [
    "df.info()"
   ]
  },
  {
   "cell_type": "code",
   "execution_count": 82,
   "id": "a8db4020-a480-4042-9a79-4980892dee1e",
   "metadata": {},
   "outputs": [],
   "source": [
    "import pandas as pd\n",
    "from sklearn import preprocessing\n",
    "import numpy as np\n",
    "\n",
    "# Load dataset (assuming df has 'Price' colum\n",
    "# Initialize MinMaxScaler\n",
    "sx = preprocessing.MinMaxScaler()\n",
    "sy = preprocessing.MinMaxScaler()\n",
    "\n",
    "# Fit and transform input features (X) and target variable (y)\n",
    "scaled_x = sx.fit_transform(df.drop('Price', axis='columns'))\n",
    "scaled_y = sy.fit_transform(df[['Price']])  # Ensure it's a 2D array\n",
    "\n",
    "# Now `sy` is fitted and can be used for `inverse_transform()`\n"
   ]
  },
  {
   "cell_type": "code",
   "execution_count": 83,
   "id": "5f27b84b-8f73-4588-870c-f11d4e9620c2",
   "metadata": {},
   "outputs": [],
   "source": [
    "scaled_y=sy.fit_transform(df.drop(['Area','Bedrooms'],axis='columns'))"
   ]
  },
  {
   "cell_type": "code",
   "execution_count": 93,
   "id": "e59bea92-ebf2-423f-9ff2-5cbf8a55d9c9",
   "metadata": {},
   "outputs": [],
   "source": [
    "def batch_gradient_descent(X, y_true, epochs, learning_rate=0.001):\n",
    "    number_of_features=X.shape[1]\n",
    "    w=np.ones(shape=(number_of_features),)\n",
    "    b=0\n",
    "    total_samples=X.shape[0]\n",
    "\n",
    "    cost_list = []\n",
    "    epoch_list = []\n",
    "    \n",
    "    for i in range (epochs):\n",
    "        y_predicted = np.dot(X, w) + b  # here we are taking the transpose of X to have a correct dot product\n",
    "\n",
    "        w_grad = -(2/total_samples) * np.dot(X.T, (y_true - y_predicted))\n",
    "        b_grad = -(2/total_samples) * np.sum(y_true - y_predicted)\n",
    "\n",
    "        w = w - learning_rate*w_grad\n",
    "        b = b - learning_rate*b_grad\n",
    "\n",
    "\n",
    "        cost = np.mean(np.square(y_true-y_predicted))\n",
    "\n",
    "        if i%10==0:\n",
    "            cost_list.append(cost)\n",
    "            epoch_list.append(i)\n",
    "\n",
    "    return w,b,cost,cost_list,epoch_list\n",
    "        "
   ]
  },
  {
   "cell_type": "code",
   "execution_count": 94,
   "id": "7a4e59df-f532-4f52-a1f6-eda664950e5c",
   "metadata": {},
   "outputs": [
    {
     "data": {
      "text/plain": [
       "[<matplotlib.lines.Line2D at 0x22643489990>]"
      ]
     },
     "execution_count": 94,
     "metadata": {},
     "output_type": "execute_result"
    },
    {
     "data": {
      "image/png": "[encoded data removed]",
      "text/plain": [
       "<Figure size 640x480 with 1 Axes>"
      ]
     },
     "metadata": {},
     "output_type": "display_data"
    }
   ],
   "source": [
    "w,b,cost,cost_list,epoch_list = batch_gradient_descent(scaled_x, scaled_y.reshape(scaled_y.shape[0],),500)\n",
    "\n",
    "#plotting graph\n",
    "plt.xlabel('epoch')\n",
    "plt.ylabel('cost')\n",
    "plt.plot(epoch_list,cost_list)"
   ]
  },
  {
   "cell_type": "markdown",
   "id": "e09d524e-b493-4e0e-abee-3e3b9ab60c62",
   "metadata": {},
   "source": [
    "### predict func"
   ]
  },
  {
   "cell_type": "code",
   "execution_count": 102,
   "id": "567da952-b925-4cb8-98e0-92e341a54b0c",
   "metadata": {},
   "outputs": [
    {
     "name": "stdout",
     "output_type": "stream",
     "text": [
      "750706.2548109132\n"
     ]
    },
    {
     "name": "stderr",
     "output_type": "stream",
     "text": [
      "C:\\Users\\dihsa\\AppData\\Local\\Programs\\Python\\Python311\\Lib\\site-packages\\sklearn\\utils\\validation.py:2739: UserWarning: X does not have valid feature names, but MinMaxScaler was fitted with feature names\n",
      "  warnings.warn(\n"
     ]
    }
   ],
   "source": [
    "def predict(area, bedrooms, w, b):\n",
    "    # Scale input features\n",
    "    scaled_x = sx.transform([[area, bedrooms]])[0]  # Shape (2,)\n",
    "\n",
    "    # Convert w to a 1D array if needed\n",
    "    w = w.flatten()\n",
    "\n",
    "    # Compute scaled price\n",
    "    scaled_price = np.dot(w, scaled_x) + b  # Dot product of (2,) · (2,) → scalar\n",
    "\n",
    "    # Convert back to original price scale\n",
    "    return sy.inverse_transform([[scaled_price]])[0][0]\n",
    "\n",
    "# Example prediction\n",
    "predicted_price = predict(2680, 4, w, b)\n",
    "print(predicted_price)\n"
   ]
  },
  {
   "cell_type": "markdown",
   "id": "0d2deb21-9478-4051-9dcc-9d93a5739673",
   "metadata": {},
   "source": [
    "## Stochastic GD"
   ]
  },
  {
   "cell_type": "code",
   "execution_count": 103,
   "id": "adcbaa34-cd34-4824-b6f9-b107ecadedfa",
   "metadata": {},
   "outputs": [],
   "source": [
    "def stochastic_gradient_descent(X, y_true, epochs, learning_rate=0.01):\n",
    "    number_of_features = X.shape[1]\n",
    "    w = np.ones(shape=(number_of_features))\n",
    "    b = np.random.randn()  # Small random initialization\n",
    "    total_samples = X.shape[0]\n",
    "\n",
    "    cost_list1 = []\n",
    "    epoch_list1 = []\n",
    "\n",
    "    for epoch in range(epochs):\n",
    "        for i in range(total_samples):  # Iterate over each sample\n",
    "            xi = X[i, :].reshape(1, -1)  # Extract single sample\n",
    "            yi = y_true[i]  # Corresponding target\n",
    "            \n",
    "            y_pred = np.dot(w, xi.T) + b  # Prediction for single example\n",
    "            \n",
    "            # Compute gradients\n",
    "            w_grad = -2 * (xi.T.dot(yi - y_pred))\n",
    "            b_grad = -2 * (yi - y_pred)\n",
    "\n",
    "            # Update weights\n",
    "            w = w - learning_rate * w_grad.flatten()  # Ensure w remains 1D\n",
    "            b = b - learning_rate * b_grad\n",
    "\n",
    "        # Compute cost for monitoring\n",
    "        y_preds = np.dot(X, w) + b\n",
    "        cost = np.mean(np.square(y_true - y_preds))\n",
    "\n",
    "        if epoch % 10 == 0:  # Store cost every 10 epochs\n",
    "            cost_list1.append(cost)\n",
    "            epoch_list1.append(epoch)\n",
    "\n",
    "    return w, b, cost, cost_list1, epoch_list1\n"
   ]
  },
  {
   "cell_type": "code",
   "execution_count": 104,
   "id": "ed99196b-3642-4c95-8b5f-b2c8b38d168e",
   "metadata": {},
   "outputs": [
    {
     "data": {
      "text/plain": [
       "[<matplotlib.lines.Line2D at 0x22643380e90>]"
      ]
     },
     "execution_count": 104,
     "metadata": {},
     "output_type": "execute_result"
    },
    {
     "data": {
      "image/png": "[encoded data removed]",
      "text/plain": [
       "<Figure size 640x480 with 1 Axes>"
      ]
     },
     "metadata": {},
     "output_type": "display_data"
    }
   ],
   "source": [
    "plt.xlabel('epoch')\n",
    "plt.ylabel('cost')\n",
    "plt.plot(epoch_list,cost_list)"
   ]
  },
  {
   "cell_type": "code",
   "execution_count": 105,
   "id": "ee3cc8ac-8198-496f-9130-a318a20c860d",
   "metadata": {},
   "outputs": [
    {
     "name": "stdout",
     "output_type": "stream",
     "text": [
      "Predicted Price: 750706.2548109132\n"
     ]
    },
    {
     "name": "stderr",
     "output_type": "stream",
     "text": [
      "C:\\Users\\dihsa\\AppData\\Local\\Programs\\Python\\Python311\\Lib\\site-packages\\sklearn\\utils\\validation.py:2739: UserWarning: X does not have valid feature names, but MinMaxScaler was fitted with feature names\n",
      "  warnings.warn(\n"
     ]
    }
   ],
   "source": [
    "def predict(area, bedrooms, w, b):\n",
    "    scaled_x = sx.transform([[area, bedrooms]])[0]\n",
    "    scaled_price = np.dot(w, scaled_x) + b\n",
    "    return sy.inverse_transform([[scaled_price]])[0][0]\n",
    "\n",
    "# Example prediction\n",
    "predicted_price = predict(2680, 4, w, b)\n",
    "print(\"Predicted Price:\", predicted_price)"
   ]
  },
  {
   "cell_type": "code",
   "execution_count": null,
   "id": "f5691785-0cae-4daa-9f4f-128d01c7b145",
   "metadata": {},
   "outputs": [],
   "source": []
  }
 ],
 "metadata": {
  "kernelspec": {
   "display_name": "Python 3 (ipykernel)",
   "language": "python",
   "name": "python3"
  },
  "language_info": {
   "codemirror_mode": {
    "name": "ipython",
    "version": 3
   },
   "file_extension": ".py",
   "mimetype": "text/x-python",
   "name": "python",
   "nbconvert_exporter": "python",
   "pygments_lexer": "ipython3",
   "version": "3.11.7"
  }
 },
 "nbformat": 4,
 "nbformat_minor": 5
}
